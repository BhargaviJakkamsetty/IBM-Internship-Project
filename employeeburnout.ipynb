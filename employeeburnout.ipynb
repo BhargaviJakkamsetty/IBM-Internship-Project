{
  "nbformat": 4,
  "nbformat_minor": 0,
  "metadata": {
    "colab": {
      "provenance": []
    },
    "kernelspec": {
      "name": "python3",
      "display_name": "Python 3"
    },
    "language_info": {
      "name": "python"
    }
  },
  "cells": [
    {
      "cell_type": "code",
      "execution_count": null,
      "metadata": {
        "id": "k7RoWaY4rP2Q"
      },
      "outputs": [],
      "source": [
        "import warnings\n",
        "warnings.filterwarnings(\"ignore\")"
      ]
    },
    {
      "cell_type": "code",
      "source": [],
      "metadata": {
        "id": "ov7mFD9ctJPJ"
      },
      "execution_count": null,
      "outputs": []
    },
    {
      "cell_type": "code",
      "source": [
        "import pandas as pd\n",
        "import numpy as np\n",
        "\n",
        "import seaborn as sns\n",
        "import matplotlib.pyplot as plt\n",
        "import plotly.express as px\n",
        "\n"
      ],
      "metadata": {
        "id": "4hGgQ6gl4B14"
      },
      "execution_count": null,
      "outputs": []
    },
    {
      "cell_type": "code",
      "source": [
        "burnoutDF = pd.read_excel(\"/content/employee_burnout_analysis-AI.xlsx\")"
      ],
      "metadata": {
        "id": "oKQpgBwH4RlV",
        "colab": {
          "base_uri": "https://localhost:8080/",
          "height": 311
        },
        "outputId": "c00f814b-6c6a-4ed8-8cb4-5b3d784d1c6a"
      },
      "execution_count": null,
      "outputs": [
        {
          "output_type": "error",
          "ename": "FileNotFoundError",
          "evalue": "ignored",
          "traceback": [
            "\u001b[0;31m---------------------------------------------------------------------------\u001b[0m",
            "\u001b[0;31mFileNotFoundError\u001b[0m                         Traceback (most recent call last)",
            "\u001b[0;32m<ipython-input-3-09b93cf85ce4>\u001b[0m in \u001b[0;36m<cell line: 1>\u001b[0;34m()\u001b[0m\n\u001b[0;32m----> 1\u001b[0;31m \u001b[0mburnoutDF\u001b[0m \u001b[0;34m=\u001b[0m \u001b[0mpd\u001b[0m\u001b[0;34m.\u001b[0m\u001b[0mread_excel\u001b[0m\u001b[0;34m(\u001b[0m\u001b[0;34m\"/content/employee_burnout_analysis-AI.xlsx\"\u001b[0m\u001b[0;34m)\u001b[0m\u001b[0;34m\u001b[0m\u001b[0;34m\u001b[0m\u001b[0m\n\u001b[0m",
            "\u001b[0;32m/usr/local/lib/python3.10/dist-packages/pandas/util/_decorators.py\u001b[0m in \u001b[0;36mwrapper\u001b[0;34m(*args, **kwargs)\u001b[0m\n\u001b[1;32m    209\u001b[0m                 \u001b[0;32melse\u001b[0m\u001b[0;34m:\u001b[0m\u001b[0;34m\u001b[0m\u001b[0;34m\u001b[0m\u001b[0m\n\u001b[1;32m    210\u001b[0m                     \u001b[0mkwargs\u001b[0m\u001b[0;34m[\u001b[0m\u001b[0mnew_arg_name\u001b[0m\u001b[0;34m]\u001b[0m \u001b[0;34m=\u001b[0m \u001b[0mnew_arg_value\u001b[0m\u001b[0;34m\u001b[0m\u001b[0;34m\u001b[0m\u001b[0m\n\u001b[0;32m--> 211\u001b[0;31m             \u001b[0;32mreturn\u001b[0m \u001b[0mfunc\u001b[0m\u001b[0;34m(\u001b[0m\u001b[0;34m*\u001b[0m\u001b[0margs\u001b[0m\u001b[0;34m,\u001b[0m \u001b[0;34m**\u001b[0m\u001b[0mkwargs\u001b[0m\u001b[0;34m)\u001b[0m\u001b[0;34m\u001b[0m\u001b[0;34m\u001b[0m\u001b[0m\n\u001b[0m\u001b[1;32m    212\u001b[0m \u001b[0;34m\u001b[0m\u001b[0m\n\u001b[1;32m    213\u001b[0m         \u001b[0;32mreturn\u001b[0m \u001b[0mcast\u001b[0m\u001b[0;34m(\u001b[0m\u001b[0mF\u001b[0m\u001b[0;34m,\u001b[0m \u001b[0mwrapper\u001b[0m\u001b[0;34m)\u001b[0m\u001b[0;34m\u001b[0m\u001b[0;34m\u001b[0m\u001b[0m\n",
            "\u001b[0;32m/usr/local/lib/python3.10/dist-packages/pandas/util/_decorators.py\u001b[0m in \u001b[0;36mwrapper\u001b[0;34m(*args, **kwargs)\u001b[0m\n\u001b[1;32m    329\u001b[0m                     \u001b[0mstacklevel\u001b[0m\u001b[0;34m=\u001b[0m\u001b[0mfind_stack_level\u001b[0m\u001b[0;34m(\u001b[0m\u001b[0;34m)\u001b[0m\u001b[0;34m,\u001b[0m\u001b[0;34m\u001b[0m\u001b[0;34m\u001b[0m\u001b[0m\n\u001b[1;32m    330\u001b[0m                 )\n\u001b[0;32m--> 331\u001b[0;31m             \u001b[0;32mreturn\u001b[0m \u001b[0mfunc\u001b[0m\u001b[0;34m(\u001b[0m\u001b[0;34m*\u001b[0m\u001b[0margs\u001b[0m\u001b[0;34m,\u001b[0m \u001b[0;34m**\u001b[0m\u001b[0mkwargs\u001b[0m\u001b[0;34m)\u001b[0m\u001b[0;34m\u001b[0m\u001b[0;34m\u001b[0m\u001b[0m\n\u001b[0m\u001b[1;32m    332\u001b[0m \u001b[0;34m\u001b[0m\u001b[0m\n\u001b[1;32m    333\u001b[0m         \u001b[0;31m# error: \"Callable[[VarArg(Any), KwArg(Any)], Any]\" has no\u001b[0m\u001b[0;34m\u001b[0m\u001b[0;34m\u001b[0m\u001b[0m\n",
            "\u001b[0;32m/usr/local/lib/python3.10/dist-packages/pandas/io/excel/_base.py\u001b[0m in \u001b[0;36mread_excel\u001b[0;34m(io, sheet_name, header, names, index_col, usecols, squeeze, dtype, engine, converters, true_values, false_values, skiprows, nrows, na_values, keep_default_na, na_filter, verbose, parse_dates, date_parser, thousands, decimal, comment, skipfooter, convert_float, mangle_dupe_cols, storage_options)\u001b[0m\n\u001b[1;32m    480\u001b[0m     \u001b[0;32mif\u001b[0m \u001b[0;32mnot\u001b[0m \u001b[0misinstance\u001b[0m\u001b[0;34m(\u001b[0m\u001b[0mio\u001b[0m\u001b[0;34m,\u001b[0m \u001b[0mExcelFile\u001b[0m\u001b[0;34m)\u001b[0m\u001b[0;34m:\u001b[0m\u001b[0;34m\u001b[0m\u001b[0;34m\u001b[0m\u001b[0m\n\u001b[1;32m    481\u001b[0m         \u001b[0mshould_close\u001b[0m \u001b[0;34m=\u001b[0m \u001b[0;32mTrue\u001b[0m\u001b[0;34m\u001b[0m\u001b[0;34m\u001b[0m\u001b[0m\n\u001b[0;32m--> 482\u001b[0;31m         \u001b[0mio\u001b[0m \u001b[0;34m=\u001b[0m \u001b[0mExcelFile\u001b[0m\u001b[0;34m(\u001b[0m\u001b[0mio\u001b[0m\u001b[0;34m,\u001b[0m \u001b[0mstorage_options\u001b[0m\u001b[0;34m=\u001b[0m\u001b[0mstorage_options\u001b[0m\u001b[0;34m,\u001b[0m \u001b[0mengine\u001b[0m\u001b[0;34m=\u001b[0m\u001b[0mengine\u001b[0m\u001b[0;34m)\u001b[0m\u001b[0;34m\u001b[0m\u001b[0;34m\u001b[0m\u001b[0m\n\u001b[0m\u001b[1;32m    483\u001b[0m     \u001b[0;32melif\u001b[0m \u001b[0mengine\u001b[0m \u001b[0;32mand\u001b[0m \u001b[0mengine\u001b[0m \u001b[0;34m!=\u001b[0m \u001b[0mio\u001b[0m\u001b[0;34m.\u001b[0m\u001b[0mengine\u001b[0m\u001b[0;34m:\u001b[0m\u001b[0;34m\u001b[0m\u001b[0;34m\u001b[0m\u001b[0m\n\u001b[1;32m    484\u001b[0m         raise ValueError(\n",
            "\u001b[0;32m/usr/local/lib/python3.10/dist-packages/pandas/io/excel/_base.py\u001b[0m in \u001b[0;36m__init__\u001b[0;34m(self, path_or_buffer, engine, storage_options)\u001b[0m\n\u001b[1;32m   1650\u001b[0m                 \u001b[0mext\u001b[0m \u001b[0;34m=\u001b[0m \u001b[0;34m\"xls\"\u001b[0m\u001b[0;34m\u001b[0m\u001b[0;34m\u001b[0m\u001b[0m\n\u001b[1;32m   1651\u001b[0m             \u001b[0;32melse\u001b[0m\u001b[0;34m:\u001b[0m\u001b[0;34m\u001b[0m\u001b[0;34m\u001b[0m\u001b[0m\n\u001b[0;32m-> 1652\u001b[0;31m                 ext = inspect_excel_format(\n\u001b[0m\u001b[1;32m   1653\u001b[0m                     \u001b[0mcontent_or_path\u001b[0m\u001b[0;34m=\u001b[0m\u001b[0mpath_or_buffer\u001b[0m\u001b[0;34m,\u001b[0m \u001b[0mstorage_options\u001b[0m\u001b[0;34m=\u001b[0m\u001b[0mstorage_options\u001b[0m\u001b[0;34m\u001b[0m\u001b[0;34m\u001b[0m\u001b[0m\n\u001b[1;32m   1654\u001b[0m                 )\n",
            "\u001b[0;32m/usr/local/lib/python3.10/dist-packages/pandas/io/excel/_base.py\u001b[0m in \u001b[0;36minspect_excel_format\u001b[0;34m(content_or_path, storage_options)\u001b[0m\n\u001b[1;32m   1523\u001b[0m         \u001b[0mcontent_or_path\u001b[0m \u001b[0;34m=\u001b[0m \u001b[0mBytesIO\u001b[0m\u001b[0;34m(\u001b[0m\u001b[0mcontent_or_path\u001b[0m\u001b[0;34m)\u001b[0m\u001b[0;34m\u001b[0m\u001b[0;34m\u001b[0m\u001b[0m\n\u001b[1;32m   1524\u001b[0m \u001b[0;34m\u001b[0m\u001b[0m\n\u001b[0;32m-> 1525\u001b[0;31m     with get_handle(\n\u001b[0m\u001b[1;32m   1526\u001b[0m         \u001b[0mcontent_or_path\u001b[0m\u001b[0;34m,\u001b[0m \u001b[0;34m\"rb\"\u001b[0m\u001b[0;34m,\u001b[0m \u001b[0mstorage_options\u001b[0m\u001b[0;34m=\u001b[0m\u001b[0mstorage_options\u001b[0m\u001b[0;34m,\u001b[0m \u001b[0mis_text\u001b[0m\u001b[0;34m=\u001b[0m\u001b[0;32mFalse\u001b[0m\u001b[0;34m\u001b[0m\u001b[0;34m\u001b[0m\u001b[0m\n\u001b[1;32m   1527\u001b[0m     ) as handle:\n",
            "\u001b[0;32m/usr/local/lib/python3.10/dist-packages/pandas/io/common.py\u001b[0m in \u001b[0;36mget_handle\u001b[0;34m(path_or_buf, mode, encoding, compression, memory_map, is_text, errors, storage_options)\u001b[0m\n\u001b[1;32m    863\u001b[0m         \u001b[0;32melse\u001b[0m\u001b[0;34m:\u001b[0m\u001b[0;34m\u001b[0m\u001b[0;34m\u001b[0m\u001b[0m\n\u001b[1;32m    864\u001b[0m             \u001b[0;31m# Binary mode\u001b[0m\u001b[0;34m\u001b[0m\u001b[0;34m\u001b[0m\u001b[0m\n\u001b[0;32m--> 865\u001b[0;31m             \u001b[0mhandle\u001b[0m \u001b[0;34m=\u001b[0m \u001b[0mopen\u001b[0m\u001b[0;34m(\u001b[0m\u001b[0mhandle\u001b[0m\u001b[0;34m,\u001b[0m \u001b[0mioargs\u001b[0m\u001b[0;34m.\u001b[0m\u001b[0mmode\u001b[0m\u001b[0;34m)\u001b[0m\u001b[0;34m\u001b[0m\u001b[0;34m\u001b[0m\u001b[0m\n\u001b[0m\u001b[1;32m    866\u001b[0m         \u001b[0mhandles\u001b[0m\u001b[0;34m.\u001b[0m\u001b[0mappend\u001b[0m\u001b[0;34m(\u001b[0m\u001b[0mhandle\u001b[0m\u001b[0;34m)\u001b[0m\u001b[0;34m\u001b[0m\u001b[0;34m\u001b[0m\u001b[0m\n\u001b[1;32m    867\u001b[0m \u001b[0;34m\u001b[0m\u001b[0m\n",
            "\u001b[0;31mFileNotFoundError\u001b[0m: [Errno 2] No such file or directory: '/content/employee_burnout_analysis-AI.xlsx'"
          ]
        }
      ]
    },
    {
      "cell_type": "code",
      "source": [
        "burnoutDF[\"Date of Joining\"] = pd.to_datetime(burnoutDF[\"Date of Joining\"])"
      ],
      "metadata": {
        "id": "Yue7Kwov4mFo"
      },
      "execution_count": null,
      "outputs": []
    },
    {
      "cell_type": "code",
      "source": [
        "burnoutDF.shape"
      ],
      "metadata": {
        "id": "C1Fat7fO49tM"
      },
      "execution_count": null,
      "outputs": []
    },
    {
      "cell_type": "code",
      "source": [
        "burnoutDF.info()"
      ],
      "metadata": {
        "id": "cxltUuKu5Aa7"
      },
      "execution_count": null,
      "outputs": []
    },
    {
      "cell_type": "code",
      "source": [
        "burnoutDF.head()"
      ],
      "metadata": {
        "id": "Mt5yyIPh5Cjb"
      },
      "execution_count": null,
      "outputs": []
    },
    {
      "cell_type": "code",
      "source": [
        "burnoutDF.columns"
      ],
      "metadata": {
        "id": "7LZVIfJz5K8L"
      },
      "execution_count": null,
      "outputs": []
    },
    {
      "cell_type": "code",
      "source": [
        "burnoutDF.isna().sum()"
      ],
      "metadata": {
        "id": "12smfJ_Z5Np8"
      },
      "execution_count": null,
      "outputs": []
    },
    {
      "cell_type": "code",
      "source": [
        "burnoutDF.duplicated().sum()"
      ],
      "metadata": {
        "id": "rUkLRsEg5Qvd"
      },
      "execution_count": null,
      "outputs": []
    },
    {
      "cell_type": "code",
      "source": [
        "burnoutDF.describe()"
      ],
      "metadata": {
        "id": "0sWYMN3k5V3c"
      },
      "execution_count": null,
      "outputs": []
    },
    {
      "cell_type": "code",
      "source": [
        "burnoutDF.drop([\"Employee ID\"], axis=1, inplace=True)"
      ],
      "metadata": {
        "id": "DVjSzwlf5b3c"
      },
      "execution_count": null,
      "outputs": []
    },
    {
      "cell_type": "code",
      "source": [
        "intfloatburnoutDF = burnoutDF.select_dtypes([np.int, np.float])\n",
        "for i, col in enumerate(intfloatburnoutDF.columns):\n",
        "  s = intfloatburnoutDF[col].skew()\n",
        "  if s>0.1:\n",
        "    print(f\"\\n{col} feature is positively skewed and value is {s}\")\n",
        "  elif s<-0.1:\n",
        "    print(f\"\\n{col} feature is negatively skewed and value is {s}\")\n",
        "  else:\n",
        "    print(f\"\\n{col} feature is normally distributed and value is {s}\")\n"
      ],
      "metadata": {
        "id": "YgQRKSA17N28"
      },
      "execution_count": null,
      "outputs": []
    },
    {
      "cell_type": "code",
      "source": [
        "burnoutDF[\"Resource Allocation\"].fillna(burnoutDF[\"Resource Allocation\"].mean(), inplace=True)\n",
        "burnoutDF[\"Mental Fatigue Score\"].fillna(burnoutDF[\"Mental Fatigue Score\"].mean(), inplace=True)\n",
        "burnoutDF[\"Burn Rate\"].fillna(burnoutDF[\"Burn Rate\"].mean(), inplace=True)"
      ],
      "metadata": {
        "id": "NfYNtfA08ASE"
      },
      "execution_count": null,
      "outputs": []
    },
    {
      "cell_type": "code",
      "source": [
        "burnoutDF.corr()"
      ],
      "metadata": {
        "id": "GSRXJDKT9BTs"
      },
      "execution_count": null,
      "outputs": []
    },
    {
      "cell_type": "code",
      "source": [
        "corr = burnoutDF.corr()\n",
        "sns.set(rc={\"figure.figsize\":(14,12)})\n",
        "fig = px.imshow(corr, text_auto=True, aspect=\"auto\")\n",
        "fig.show()"
      ],
      "metadata": {
        "id": "MFMleFxk9F7s"
      },
      "execution_count": null,
      "outputs": []
    },
    {
      "cell_type": "code",
      "source": [
        " plt.figure(figsize=(10,8))\n",
        " sns.countplot(x=\"Gender\", data=burnoutDF, palette=\"magma\")\n",
        " plt.title(\"Plot distribution of gender\")\n",
        " plt.show()"
      ],
      "metadata": {
        "id": "Vyrlcz_m9eDs"
      },
      "execution_count": null,
      "outputs": []
    },
    {
      "cell_type": "code",
      "source": [
        " plt.figure(figsize=(10,8))\n",
        " sns.countplot(x=\"Company Type\", data=burnoutDF, palette=\"magma\")\n",
        " plt.title(\"Plot distribution of Company Type\")\n",
        " plt.show()"
      ],
      "metadata": {
        "id": "XRDAlz3U-K9P"
      },
      "execution_count": null,
      "outputs": []
    },
    {
      "cell_type": "code",
      "source": [
        " plt.figure(figsize=(10,8))\n",
        " sns.countplot(x=\"WFH Setup Available\", data=burnoutDF, palette=\"magma\")\n",
        " plt.title(\"Plot distribution of WFH Setup Available\")\n",
        " plt.show()"
      ],
      "metadata": {
        "id": "p-CmE6eQ-hGu"
      },
      "execution_count": null,
      "outputs": []
    },
    {
      "cell_type": "code",
      "source": [
        "burn_st = burnoutDF.loc[:, \"Date of Joining\": \"Burn Rate\"]\n",
        "burn_st = burn_st.select_dtypes([int, float])\n",
        "for i, col in enumerate(burn_st.columns):\n",
        "  fig = px.histogram(burn_st, x=col, title=f\"plot distribution of {col}\", color_discrete_sequence=[\"indianred\"])\n",
        "  fig.update_layout(bargap = 0.2)\n",
        "  fig.show()"
      ],
      "metadata": {
        "id": "W2pREgBo-tDt"
      },
      "execution_count": null,
      "outputs": []
    },
    {
      "cell_type": "code",
      "source": [
        "fig = px.line(burnoutDF, y=\"Burn Rate\", color=\"Designation\", title=\"Burn rate on the basis of Designation\", color_discrete_sequence=px.colors.qualitative.Pastel1)\n",
        "fig.update_layout(bargap=0.1)\n",
        "fig.show()"
      ],
      "metadata": {
        "id": "n8P_rM1FCHPi"
      },
      "execution_count": null,
      "outputs": []
    },
    {
      "cell_type": "code",
      "source": [
        "fig = px.line(burnoutDF, y=\"Burn Rate\", color=\"Gender\", title=\"Burn rate on the basis of Gender\", color_discrete_sequence=px.colors.qualitative.Pastel1)\n",
        "fig.update_layout(bargap=0.2)\n",
        "fig.show()"
      ],
      "metadata": {
        "id": "XJ2MedsZCxDv"
      },
      "execution_count": null,
      "outputs": []
    },
    {
      "cell_type": "code",
      "source": [
        "fig = px.line(burnoutDF, y=\"Mental Fatigue Score\", color=\"Designation\", title=\"Mental fatigue vs Designation\", color_discrete_sequence=px.colors.qualitative.Pastel1)\n",
        "fig.update_layout(bargap=0.2)\n",
        "fig.show()"
      ],
      "metadata": {
        "id": "IhM3TuPrD60g"
      },
      "execution_count": null,
      "outputs": []
    },
    {
      "cell_type": "code",
      "source": [
        "sns.relplot(data=burnoutDF, x=\"Designation\", y=\"Mental Fatigue Score\", \\\n",
        "            col=\"Company Type\", hue = \"Company Type\", size=\"Burn Rate\", \\\n",
        "            style = \"Gender\", palette=[\"g\",\"r\"], sizes = (50, 200))"
      ],
      "metadata": {
        "id": "JzPCxnRAEUfn"
      },
      "execution_count": null,
      "outputs": []
    },
    {
      "cell_type": "code",
      "source": [
        "from sklearn import preprocessing\n",
        "Label_encode = preprocessing.LabelEncoder()"
      ],
      "metadata": {
        "id": "VLnibFP8FDeh"
      },
      "execution_count": null,
      "outputs": []
    },
    {
      "cell_type": "code",
      "source": [
        "burnoutDF[\"GenderLabel\"] = Label_encode.fit_transform(burnoutDF[\"Gender\"].values)\n",
        "burnoutDF[\"Company_TypeLabel\"] = Label_encode.fit_transform(burnoutDF[\"Company Type\"].values)\n",
        "burnoutDF[\"WFH_Setup_AvailableLabel\"] = Label_encode.fit_transform(burnoutDF[\"WFH Setup Available\"].values)"
      ],
      "metadata": {
        "id": "vspLvp09FmuQ"
      },
      "execution_count": null,
      "outputs": []
    },
    {
      "cell_type": "code",
      "source": [
        "gn = burnoutDF.groupby(\"Gender\")\n",
        "gn = gn[\"GenderLabel\"]\n",
        "gn.first()"
      ],
      "metadata": {
        "id": "57WTSRiUGES7"
      },
      "execution_count": null,
      "outputs": []
    },
    {
      "cell_type": "code",
      "source": [
        "ct = burnoutDF.groupby(\"Company Type\")\n",
        "ct = ct[\"Company_TypeLabel\"]\n",
        "ct.first()"
      ],
      "metadata": {
        "id": "Hr4IxYkWGN_B"
      },
      "execution_count": null,
      "outputs": []
    },
    {
      "cell_type": "code",
      "source": [
        "burnoutDF.tail(10)"
      ],
      "metadata": {
        "id": "co4S6ghCHAPg"
      },
      "execution_count": null,
      "outputs": []
    },
    {
      "cell_type": "code",
      "source": [
        "Columns = [\n",
        "    \"Designation\", \"Resource Allocation\", \"Mental Fatigue Score\",\n",
        "    \"GenderLabel\", \"Company_TypeLabel\", \"WFH_Setup_AvailableLabel\"\n",
        "]\n",
        "X = burnoutDF[Columns]\n",
        "# X[\"Mental Fatigue Score\"] =( X[\"Mental Fatigue Score\"] - X[\"Mental Fatigue Score\"].mean())/X[\"Mental Fatigue Score\"].std()\n",
        "# X[\"Resource Allocation\"] =( X[\"Resource Allocation\"] - X[\"Resource Allocation\"].mean())/X[\"Resource Allocation\"].std()\n",
        "y = burnoutDF[\"Burn Rate\"]"
      ],
      "metadata": {
        "id": "6-LfO1-zHHTh"
      },
      "execution_count": null,
      "outputs": []
    },
    {
      "cell_type": "code",
      "source": [
        "print(X)"
      ],
      "metadata": {
        "id": "3KWfLIW4H_oC"
      },
      "execution_count": null,
      "outputs": []
    },
    {
      "cell_type": "code",
      "source": [
        "from sklearn.decomposition import PCA\n",
        "\n",
        "pca = PCA(0.95)\n",
        "x_pca = pca.fit_transform(X)\n",
        "\n",
        "print(f\"PCA Shape of x is: {x_pca.shape} and original shape is: {X.shape}\")\n",
        "print(f\"% of importance of selected features is: {pca.explained_variance_ratio_}\")\n",
        "print(f\"The number of features selected through PCA is: {pca.n_components_}\")"
      ],
      "metadata": {
        "id": "w6hdg_WjII6B"
      },
      "execution_count": null,
      "outputs": []
    },
    {
      "cell_type": "code",
      "source": [
        "from sklearn.model_selection import train_test_split\n",
        "x_pca = X\n",
        "x_train_pca, x_test, y_train, y_test = train_test_split(x_pca, y, test_size=0.25, random_state=10)"
      ],
      "metadata": {
        "id": "cETDhFePI_zy"
      },
      "execution_count": null,
      "outputs": []
    },
    {
      "cell_type": "code",
      "source": [
        "from sklearn.metrics import r2_score"
      ],
      "metadata": {
        "id": "zhQidffZJe1T"
      },
      "execution_count": null,
      "outputs": []
    },
    {
      "cell_type": "code",
      "source": [
        "from sklearn.ensemble import RandomForestRegressor\n",
        "\n",
        "rf_model = RandomForestRegressor()\n",
        "rf_model.fit(x_train_pca, y_train)\n",
        "\n",
        "train_pred_rf = rf_model.predict(x_train_pca)\n",
        "train_r2 = r2_score(y_train, train_pred_rf)\n",
        "test_pred_rf = rf_model.predict(x_test)\n",
        "test_r2 = r2_score(y_test, test_pred_rf)\n",
        "\n",
        "print(f\"Accuracy score of train data : {round(100*train_r2, 4)} %\")\n",
        "print(f\"Accuracy score of test data : {round(100*test_r2, 4)} %\")\n"
      ],
      "metadata": {
        "id": "OM39PgwsJqfx"
      },
      "execution_count": null,
      "outputs": []
    },
    {
      "cell_type": "code",
      "source": [
        "from sklearn.ensemble import AdaBoostRegressor\n",
        "abr_model = AdaBoostRegressor(n_estimators=100)\n",
        "abr_model.fit(x_train_pca, y_train)\n",
        "\n",
        "train_pred_adboost = abr_model.predict(x_train_pca)\n",
        "train_r2 = r2_score(y_train, train_pred_adboost)\n",
        "test_pred_adboost = abr_model.predict(x_test)\n",
        "test_r2 = r2_score(y_test, test_pred_adboost)\n",
        "print(f\"Accuracy score of train data : {round(100*train_r2, 4)} %\")\n",
        "print(f\"Accuracy score of test data : {round(100*test_r2, 4)} %\")"
      ],
      "metadata": {
        "id": "bHg9mCKVKYTD"
      },
      "execution_count": null,
      "outputs": []
    },
    {
      "cell_type": "code",
      "source": [
        "from sklearn.model_selection import GridSearchCV\n",
        "param_grid = {\n",
        "    'bootstrap': [True],\n",
        "    'max_depth': [30, 50],\n",
        "    'n_estimators': [30, 50, 80,  100]\n",
        "}\n",
        "#\n",
        "\n"
      ],
      "metadata": {
        "id": "IcxnnmncLPJ4"
      },
      "execution_count": null,
      "outputs": []
    },
    {
      "cell_type": "code",
      "source": [
        "# Use the random grid to search for best hyperparameters\n",
        "# First create the base model to tune\n",
        "rf = RandomForestRegressor()\n",
        "# Random search of parameters, using 3 fold cross validation,\n",
        "# search across 100 different combinations, and use all available cores\n",
        "rf_grid = GridSearchCV(estimator = rf, param_grid = param_grid,  cv = 3, verbose=2, n_jobs = -1)\n",
        "# Fit the grid search model\n",
        "rf_grid.fit(x_train_pca, y_train)"
      ],
      "metadata": {
        "id": "Isq89c0ldRNb"
      },
      "execution_count": null,
      "outputs": []
    },
    {
      "cell_type": "code",
      "source": [
        "train_pred_rf = rf_grid.predict(x_train_pca)\n",
        "train_r2 = r2_score(y_train, train_pred_rf)\n",
        "test_pred_rf = rf_grid.predict(x_test)\n",
        "test_r2 = r2_score(y_test, test_pred_rf)\n",
        "\n",
        "print(f\"Accuracy score of train data : {round(100*train_r2, 4)} %\")\n",
        "print(f\"Accuracy score of test data : {round(100*test_r2, 4)} %\")"
      ],
      "metadata": {
        "id": "r-bQneXCdYvX"
      },
      "execution_count": null,
      "outputs": []
    },
    {
      "cell_type": "code",
      "source": [],
      "metadata": {
        "id": "x21cIBmPkrlN"
      },
      "execution_count": null,
      "outputs": []
    },
    {
      "cell_type": "code",
      "source": [],
      "metadata": {
        "id": "2nzFCtPoxOfQ"
      },
      "execution_count": null,
      "outputs": []
    }
  ]
}